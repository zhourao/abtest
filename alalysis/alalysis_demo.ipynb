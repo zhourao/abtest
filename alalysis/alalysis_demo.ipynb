{
 "cells": [
  {
   "cell_type": "markdown",
   "metadata": {},
   "source": [
    "# 置信度计算\n",
    "\n",
    "## 实验组和对照组p-value计算\n",
    "* 取流量作为样本 实验组样本: $n_{exp} = 400000$ 对照组样本: $n_{control} = 400000$\n",
    "* 取点击流量作为CTR指标 实验组转化：$ct_{exp} = 40500$ 对照组样本: $ct_{control} = 40000$\n",
    "\n",
    "\n",
    "### 概念\n",
    "* p-value：对照组和实验组转化率一致的概率\n",
    "* p-value < 0.05 说明实验组转化率与对照组转化率不一致且实验组优于对照组\n",
    "### 采取公式\n",
    "* 公式如下\n",
    "$$ z = \\frac{(p_{exp} - p_{control})}{\\sqrt{\\frac{p_{exp}(1-p_{exp})}{n_{exp}} + \\frac{p_{control}(1-p_{control})}{n_{control}}}}$$\n",
    "\n",
    "* 个参数\n",
    "  * x为曝光数，y为产生的结果数（点击、转化等等），n为天数，则转化率为：\n",
    "  $$ \\frac{\\sum_{i=1}^ny}{\\sum_{i=1}^nx} $$\n",
    "  * 实验组转化率 $p_{exp}$ ,对照组组转化率 $p_{control}$\n",
    "  * 样本数实验组 $n_{exp}$ ,对照组组转化率 $n_{control}$\n",
    "\n",
    "### 实验组对照组差异Z值计算\n",
    "* 转化率 实验组转化率：$p_{exp}=ct_{exp}/n_{exp}$ 对照组转化率：$p_{control}=ct_{control}/n_{control}$\n",
    "$$ z = \\frac{(p_{exp} - p_{control})}{\\sqrt{\\frac{p_{exp}(1-p_{exp})}{n_{exp}} + \\frac{p_{control}(1-p_{control})}{n_{control}}}}$$\n",
    "\n",
    "#### python代码计算"
   ]
  },
  {
   "cell_type": "code",
   "execution_count": 1,
   "metadata": {},
   "outputs": [
    {
     "data": {
      "text/plain": [
       "1.858243386368076"
      ]
     },
     "execution_count": 1,
     "metadata": {},
     "output_type": "execute_result"
    }
   ],
   "source": [
    "import math\n",
    "from scipy.stats import norm\n",
    "\n",
    "def get_z(ct_exp, n_experiment, ct_control, n_control):\n",
    "    p_experiment = ct_exp / n_experiment\n",
    "    p_control = ct_control / n_control\n",
    "\n",
    "    se_experiment = p_experiment * (1 - p_experiment) / n_experiment\n",
    "    se_control = p_control * (1 - p_control) / n_control\n",
    "    return (p_experiment - p_control) / math.sqrt(se_experiment + se_control)\n",
    "\n",
    "z = get_z(40500,400000, 40000,400000)\n",
    "z"
   ]
  },
  {
   "cell_type": "code",
   "execution_count": 2,
   "metadata": {},
   "outputs": [
    {
     "data": {
      "text/plain": [
       "0.0315672296806507"
      ]
     },
     "execution_count": 2,
     "metadata": {},
     "output_type": "execute_result"
    }
   ],
   "source": [
    "# p值\n",
    "norm.sf(z)"
   ]
  },
  {
   "cell_type": "markdown",
   "metadata": {},
   "source": [
    "## 实验组和对照组置信区间计算\n",
    "### 概念\n",
    "* 置信区间：最终转化率有95%的可能性在该区间内\n",
    "* 本次采用的置信区间按双边检验做验证\n",
    "### 采取公式\n",
    "* 增长的时候，公式如下：\n",
    "$$ (\\overline{p_{experiment}} - \\overline{p_{control}}) \\pm Z_{1-\\frac{α}{2}}·\\sqrt{\\frac{p_{exp}(1-p_{exp})}{n_{exp}} + \\frac{p_{control}(1-p_{control})}{n_{control}}}$$\n",
    "* 降低的时候，公式如下\n",
    "$$ (\\overline{p_{experiment}} - \\overline{p_{control}}) \\pm Z_{\\frac{α}{2}}·\\sqrt{\\frac{p_{exp}(1-p_{exp})}{n_{exp}} + \\frac{p_{control}(1-p_{control})}{n_{control}}}$$\n",
    "* 其中α取值为0.05\n",
    "\n",
    "#### python代码计算"
   ]
  },
  {
   "cell_type": "code",
   "execution_count": 3,
   "metadata": {},
   "outputs": [
    {
     "data": {
      "text/plain": [
       "[-6.842523893680458e-05, 0.002568425238936807]"
      ]
     },
     "execution_count": 3,
     "metadata": {},
     "output_type": "execute_result"
    }
   ],
   "source": [
    "import math\n",
    "from scipy.stats import norm\n",
    "\n",
    "def get_confidence_interval(ct_exp, n_experiment, ct_control, n_control):\n",
    "    p_experiment = ct_exp / n_experiment\n",
    "    p_control = ct_control / n_control\n",
    "\n",
    "    se_experiment = p_experiment * (1 - p_experiment) / n_experiment\n",
    "    se_control = p_control * (1 - p_control) / n_control\n",
    "    wave = norm.ppf(1-0.05/2) * math.sqrt(se_experiment + se_control)\n",
    "\n",
    "    return [p_experiment - p_control - wave,p_experiment - p_control + wave]\n",
    "\n",
    "# 置信区间\n",
    "get_confidence_interval(40500,400000, 40000,400000)"
   ]
  },
  {
   "cell_type": "markdown",
   "metadata": {},
   "source": [
    "## 实验组和对照组统计功效计算\n",
    "### 概念\n",
    "* 统计功效：默认对照组和实验组不一致，实际计算对照组和实验组不一致的概率\n",
    "\n",
    "### 采取公式\n",
    "* 公式如下\n",
    "$$ Power=Φ(Z_{1-\\frac{α}{2}} -  \\frac{(p_{exp} - p_{control})}{\\sqrt{\\frac{p_{exp}(1-p_{exp})}{n_{exp}} \\frac{p_{control}(1-p_{control})}{n_{control}}}}) + 1 - Φ(-Z_{1-\\frac{α}{2}} -  \\frac{(p_{exp} - p_{control})}{\\sqrt{\\frac{p_{exp}(1-p_{exp})}{n_{exp}} + \\frac{p_{control}(1-p_{control})}{n_{control}}}})  $$"
   ]
  },
  {
   "cell_type": "code",
   "execution_count": 4,
   "metadata": {},
   "outputs": [
    {
     "data": {
      "text/plain": [
       "0.45955643844271055"
      ]
     },
     "execution_count": 4,
     "metadata": {},
     "output_type": "execute_result"
    }
   ],
   "source": [
    "import math\n",
    "from scipy.stats import norm\n",
    "\n",
    "def get_z(ct_exp, n_experiment, ct_control, n_control):\n",
    "    p_experiment = ct_exp / n_experiment\n",
    "    p_control = ct_control / n_control\n",
    "\n",
    "    se_experiment = p_experiment * (1 - p_experiment) / n_experiment\n",
    "    se_control = p_control * (1 - p_control) / n_control\n",
    "    return (p_experiment - p_control) / math.sqrt(se_experiment + se_control)\n",
    "\n",
    "z = get_z(40500,400000,40000,400000)\n",
    "# 统计功效\n",
    "norm.sf(norm.ppf(1-0.05/2) - z) + 1 - norm.sf(-z - norm.ppf(1-0.05/2))"
   ]
  }
 ],
 "metadata": {
  "kernelspec": {
   "display_name": "Python 3",
   "language": "python",
   "name": "python3"
  },
  "language_info": {
   "codemirror_mode": {
    "name": "ipython",
    "version": 3
   },
   "file_extension": ".py",
   "mimetype": "text/x-python",
   "name": "python",
   "nbconvert_exporter": "python",
   "pygments_lexer": "ipython3",
   "version": "3.7.3"
  }
 },
 "nbformat": 4,
 "nbformat_minor": 4
}
